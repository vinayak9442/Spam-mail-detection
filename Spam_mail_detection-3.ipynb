{
 "cells": [
  {
   "cell_type": "code",
   "execution_count": 1,
   "id": "6564a903-de38-4ef7-987c-3d65d9c524fc",
   "metadata": {},
   "outputs": [],
   "source": [
    "import pandas as pd\n",
    "import numpy as np\n",
    "from sklearn.model_selection import train_test_split\n",
    "from sklearn.feature_extraction.text import TfidfVectorizer\n",
    "from sklearn.linear_model import LogisticRegression\n",
    "from sklearn.metrics import accuracy_score"
   ]
  },
  {
   "cell_type": "markdown",
   "id": "34f58fc1-2411-48b4-8949-3f3b53b0f971",
   "metadata": {},
   "source": [
    "# Importing the dataset"
   ]
  },
  {
   "cell_type": "code",
   "execution_count": 2,
   "id": "05960460-80b2-4702-92c0-6d5cd3d67693",
   "metadata": {},
   "outputs": [
    {
     "data": {
      "text/html": [
       "<div>\n",
       "<style scoped>\n",
       "    .dataframe tbody tr th:only-of-type {\n",
       "        vertical-align: middle;\n",
       "    }\n",
       "\n",
       "    .dataframe tbody tr th {\n",
       "        vertical-align: top;\n",
       "    }\n",
       "\n",
       "    .dataframe thead th {\n",
       "        text-align: right;\n",
       "    }\n",
       "</style>\n",
       "<table border=\"1\" class=\"dataframe\">\n",
       "  <thead>\n",
       "    <tr style=\"text-align: right;\">\n",
       "      <th></th>\n",
       "      <th>Category</th>\n",
       "      <th>Message</th>\n",
       "    </tr>\n",
       "  </thead>\n",
       "  <tbody>\n",
       "    <tr>\n",
       "      <th>0</th>\n",
       "      <td>ham</td>\n",
       "      <td>Go until jurong point, crazy.. Available only ...</td>\n",
       "    </tr>\n",
       "    <tr>\n",
       "      <th>1</th>\n",
       "      <td>ham</td>\n",
       "      <td>Ok lar... Joking wif u oni...</td>\n",
       "    </tr>\n",
       "    <tr>\n",
       "      <th>2</th>\n",
       "      <td>spam</td>\n",
       "      <td>Free entry in 2 a wkly comp to win FA Cup fina...</td>\n",
       "    </tr>\n",
       "    <tr>\n",
       "      <th>3</th>\n",
       "      <td>ham</td>\n",
       "      <td>U dun say so early hor... U c already then say...</td>\n",
       "    </tr>\n",
       "    <tr>\n",
       "      <th>4</th>\n",
       "      <td>ham</td>\n",
       "      <td>Nah I don't think he goes to usf, he lives aro...</td>\n",
       "    </tr>\n",
       "    <tr>\n",
       "      <th>...</th>\n",
       "      <td>...</td>\n",
       "      <td>...</td>\n",
       "    </tr>\n",
       "    <tr>\n",
       "      <th>5567</th>\n",
       "      <td>spam</td>\n",
       "      <td>This is the 2nd time we have tried 2 contact u...</td>\n",
       "    </tr>\n",
       "    <tr>\n",
       "      <th>5568</th>\n",
       "      <td>ham</td>\n",
       "      <td>Will ü b going to esplanade fr home?</td>\n",
       "    </tr>\n",
       "    <tr>\n",
       "      <th>5569</th>\n",
       "      <td>ham</td>\n",
       "      <td>Pity, * was in mood for that. So...any other s...</td>\n",
       "    </tr>\n",
       "    <tr>\n",
       "      <th>5570</th>\n",
       "      <td>ham</td>\n",
       "      <td>The guy did some bitching but I acted like i'd...</td>\n",
       "    </tr>\n",
       "    <tr>\n",
       "      <th>5571</th>\n",
       "      <td>ham</td>\n",
       "      <td>Rofl. Its true to its name</td>\n",
       "    </tr>\n",
       "  </tbody>\n",
       "</table>\n",
       "<p>5572 rows × 2 columns</p>\n",
       "</div>"
      ],
      "text/plain": [
       "     Category                                            Message\n",
       "0         ham  Go until jurong point, crazy.. Available only ...\n",
       "1         ham                      Ok lar... Joking wif u oni...\n",
       "2        spam  Free entry in 2 a wkly comp to win FA Cup fina...\n",
       "3         ham  U dun say so early hor... U c already then say...\n",
       "4         ham  Nah I don't think he goes to usf, he lives aro...\n",
       "...       ...                                                ...\n",
       "5567     spam  This is the 2nd time we have tried 2 contact u...\n",
       "5568      ham               Will ü b going to esplanade fr home?\n",
       "5569      ham  Pity, * was in mood for that. So...any other s...\n",
       "5570      ham  The guy did some bitching but I acted like i'd...\n",
       "5571      ham                         Rofl. Its true to its name\n",
       "\n",
       "[5572 rows x 2 columns]"
      ]
     },
     "execution_count": 2,
     "metadata": {},
     "output_type": "execute_result"
    }
   ],
   "source": [
    "mail_data=pd.read_csv(\"mail_data.csv\")\n",
    "mail_data"
   ]
  },
  {
   "cell_type": "code",
   "execution_count": 3,
   "id": "8ce64fab-f3e7-4cd4-abef-374d0e7cc6aa",
   "metadata": {},
   "outputs": [
    {
     "data": {
      "text/html": [
       "<div>\n",
       "<style scoped>\n",
       "    .dataframe tbody tr th:only-of-type {\n",
       "        vertical-align: middle;\n",
       "    }\n",
       "\n",
       "    .dataframe tbody tr th {\n",
       "        vertical-align: top;\n",
       "    }\n",
       "\n",
       "    .dataframe thead th {\n",
       "        text-align: right;\n",
       "    }\n",
       "</style>\n",
       "<table border=\"1\" class=\"dataframe\">\n",
       "  <thead>\n",
       "    <tr style=\"text-align: right;\">\n",
       "      <th></th>\n",
       "      <th>Category</th>\n",
       "      <th>Message</th>\n",
       "    </tr>\n",
       "  </thead>\n",
       "  <tbody>\n",
       "    <tr>\n",
       "      <th>count</th>\n",
       "      <td>5572</td>\n",
       "      <td>5572</td>\n",
       "    </tr>\n",
       "    <tr>\n",
       "      <th>unique</th>\n",
       "      <td>2</td>\n",
       "      <td>5157</td>\n",
       "    </tr>\n",
       "    <tr>\n",
       "      <th>top</th>\n",
       "      <td>ham</td>\n",
       "      <td>Sorry, I'll call later</td>\n",
       "    </tr>\n",
       "    <tr>\n",
       "      <th>freq</th>\n",
       "      <td>4825</td>\n",
       "      <td>30</td>\n",
       "    </tr>\n",
       "  </tbody>\n",
       "</table>\n",
       "</div>"
      ],
      "text/plain": [
       "       Category                 Message\n",
       "count      5572                    5572\n",
       "unique        2                    5157\n",
       "top         ham  Sorry, I'll call later\n",
       "freq       4825                      30"
      ]
     },
     "execution_count": 3,
     "metadata": {},
     "output_type": "execute_result"
    }
   ],
   "source": [
    "mail_data.describe(include='all')"
   ]
  },
  {
   "cell_type": "code",
   "execution_count": 4,
   "id": "8c9ee36a-2617-400d-a101-94a65dc44521",
   "metadata": {},
   "outputs": [
    {
     "name": "stdout",
     "output_type": "stream",
     "text": [
      "<class 'pandas.core.frame.DataFrame'>\n",
      "RangeIndex: 5572 entries, 0 to 5571\n",
      "Data columns (total 2 columns):\n",
      " #   Column    Non-Null Count  Dtype \n",
      "---  ------    --------------  ----- \n",
      " 0   Category  5572 non-null   object\n",
      " 1   Message   5572 non-null   object\n",
      "dtypes: object(2)\n",
      "memory usage: 87.2+ KB\n"
     ]
    }
   ],
   "source": [
    "mail_data.info()"
   ]
  },
  {
   "cell_type": "code",
   "execution_count": 5,
   "id": "2c966863-5b49-49a9-9260-d032c569854e",
   "metadata": {},
   "outputs": [
    {
     "data": {
      "text/plain": [
       "Category    0\n",
       "Message     0\n",
       "dtype: int64"
      ]
     },
     "execution_count": 5,
     "metadata": {},
     "output_type": "execute_result"
    }
   ],
   "source": [
    "mail_data.isnull().sum()"
   ]
  },
  {
   "cell_type": "markdown",
   "id": "2cd573f7-b11e-4b57-863c-a7377e7dde64",
   "metadata": {},
   "source": [
    "# Splitting the features and labels from dataset"
   ]
  },
  {
   "cell_type": "code",
   "execution_count": 6,
   "id": "f6b1a6c3-1258-45d5-90aa-81cc381f9169",
   "metadata": {},
   "outputs": [
    {
     "name": "stdout",
     "output_type": "stream",
     "text": [
      "0       Go until jurong point, crazy.. Available only ...\n",
      "1                           Ok lar... Joking wif u oni...\n",
      "2       Free entry in 2 a wkly comp to win FA Cup fina...\n",
      "3       U dun say so early hor... U c already then say...\n",
      "4       Nah I don't think he goes to usf, he lives aro...\n",
      "                              ...                        \n",
      "5567    This is the 2nd time we have tried 2 contact u...\n",
      "5568                 Will ü b going to esplanade fr home?\n",
      "5569    Pity, * was in mood for that. So...any other s...\n",
      "5570    The guy did some bitching but I acted like i'd...\n",
      "5571                           Rofl. Its true to its name\n",
      "Name: Message, Length: 5572, dtype: object\n",
      "0        ham\n",
      "1        ham\n",
      "2       spam\n",
      "3        ham\n",
      "4        ham\n",
      "        ... \n",
      "5567    spam\n",
      "5568     ham\n",
      "5569     ham\n",
      "5570     ham\n",
      "5571     ham\n",
      "Name: Category, Length: 5572, dtype: object\n"
     ]
    }
   ],
   "source": [
    "x=mail_data['Message']\n",
    "y=mail_data['Category']\n",
    "print(x)\n",
    "print(y)"
   ]
  },
  {
   "cell_type": "code",
   "execution_count": 7,
   "id": "c3c71472-ea62-4df8-9e1c-6a91f421cb1c",
   "metadata": {},
   "outputs": [],
   "source": [
    "x_train,x_test,y_train,y_test=train_test_split(x,y,test_size=0.1,stratify=y,random_state=3)"
   ]
  },
  {
   "cell_type": "code",
   "execution_count": 8,
   "id": "8d6b2a99-6706-4897-b762-2e32db87bcf8",
   "metadata": {},
   "outputs": [
    {
     "name": "stdout",
     "output_type": "stream",
     "text": [
      "(5572,) (5014,) (558,)\n"
     ]
    }
   ],
   "source": [
    "print(x.shape,x_train.shape,x_test.shape)"
   ]
  },
  {
   "cell_type": "markdown",
   "id": "ff3839c9-b538-4f7f-a85b-db2e10acc401",
   "metadata": {},
   "source": [
    "# Feature extraction"
   ]
  },
  {
   "cell_type": "code",
   "execution_count": 9,
   "id": "5c9219fd-cac2-4a36-8511-585c1901e363",
   "metadata": {},
   "outputs": [],
   "source": [
    "# convert message into numbers \n",
    "feature_ex=TfidfVectorizer(min_df=1,stop_words='english',lowercase=True)\n",
    "\n",
    "x_train_feature=feature_ex.fit_transform(x_train)\n",
    "x_test_feature=feature_ex.transform(x_test)\n",
    "\n",
    "# convert labels into int values\n"
   ]
  },
  {
   "cell_type": "code",
   "execution_count": 10,
   "id": "d7a8f8e2-4801-4741-a52d-6fa858ad37ee",
   "metadata": {},
   "outputs": [
    {
     "name": "stdout",
     "output_type": "stream",
     "text": [
      "  (0, 2957)\t0.4392224302425982\n",
      "  (0, 2923)\t0.6150799713367798\n",
      "  (0, 4255)\t0.6547978967835282\n",
      "  (1, 3635)\t0.4159201383953845\n",
      "  (1, 4569)\t0.3727267748611139\n",
      "  (1, 2601)\t0.6241020543492476\n",
      "  (1, 6071)\t0.5464264045009588\n",
      "  (2, 3086)\t0.23183853962176187\n",
      "  (2, 7389)\t0.21355476633997036\n",
      "  (2, 7651)\t0.3612253898825877\n",
      "  (2, 1989)\t0.23346703423594808\n",
      "  (2, 2532)\t0.39960136240248884\n",
      "  (2, 3729)\t0.39432453095367176\n",
      "  (2, 4024)\t0.4278831337923238\n",
      "  (2, 2655)\t0.4662591063122249\n",
      "  (3, 2502)\t0.358242107240005\n",
      "  (3, 3292)\t0.2871780733653876\n",
      "  (3, 2548)\t0.5068005898177309\n",
      "  (3, 1815)\t0.5828322822474027\n",
      "  (3, 5067)\t0.4389203113425817\n",
      "  (4, 7262)\t0.41497930231781877\n",
      "  (4, 1793)\t0.32680147554545536\n",
      "  (4, 5358)\t0.36323417347866804\n",
      "  (4, 6191)\t0.2373854499904691\n",
      "  (4, 6032)\t0.3498044130166698\n",
      "  :\t:\n",
      "  (5009, 1260)\t0.8800609335151293\n",
      "  (5009, 5066)\t0.4748607725433626\n",
      "  (5010, 1968)\t0.5668102615093351\n",
      "  (5010, 6058)\t0.5668102615093351\n",
      "  (5010, 2007)\t0.4257200180256037\n",
      "  (5010, 5408)\t0.3143361896376346\n",
      "  (5010, 6191)\t0.2782219995467843\n",
      "  (5011, 6193)\t0.675432787917878\n",
      "  (5011, 7009)\t0.5940866880854313\n",
      "  (5011, 3589)\t0.4368656040994374\n",
      "  (5012, 7270)\t0.5445940138968416\n",
      "  (5012, 815)\t0.4340494470573395\n",
      "  (5012, 3346)\t0.3038575277860468\n",
      "  (5012, 7727)\t0.44529797559447326\n",
      "  (5012, 2278)\t0.2607822395482001\n",
      "  (5012, 4003)\t0.2332356669895818\n",
      "  (5012, 2502)\t0.3193626472465283\n",
      "  (5013, 4653)\t0.4149996340217454\n",
      "  (5013, 1292)\t0.4149996340217454\n",
      "  (5013, 6136)\t0.4149996340217454\n",
      "  (5013, 6468)\t0.37192061173202673\n",
      "  (5013, 6310)\t0.33485162148681036\n",
      "  (5013, 1593)\t0.3067445670495217\n",
      "  (5013, 5776)\t0.24523385135691614\n",
      "  (5013, 1405)\t0.2804344668121883\n",
      "2805    ham\n",
      "2607    ham\n",
      "89      ham\n",
      "2684    ham\n",
      "747     ham\n",
      "       ... \n",
      "3775    ham\n",
      "5519    ham\n",
      "2832    ham\n",
      "2724    ham\n",
      "4714    ham\n",
      "Name: Category, Length: 5014, dtype: object\n"
     ]
    }
   ],
   "source": [
    "print(x_train_feature)\n",
    "print(y_train)"
   ]
  },
  {
   "cell_type": "markdown",
   "id": "5fac42e5-f0b9-46fc-9865-ef8a76f4f083",
   "metadata": {},
   "source": [
    "# Model Training - Logistic Regression"
   ]
  },
  {
   "cell_type": "code",
   "execution_count": 11,
   "id": "3a26a2b1-bbdc-489c-ae24-f1dc580302d9",
   "metadata": {},
   "outputs": [],
   "source": [
    "model=LogisticRegression()"
   ]
  },
  {
   "cell_type": "code",
   "execution_count": 12,
   "id": "6c63ab57-340e-4069-8f24-08715f74cd63",
   "metadata": {},
   "outputs": [
    {
     "data": {
      "text/html": [
       "<style>#sk-container-id-1 {color: black;background-color: white;}#sk-container-id-1 pre{padding: 0;}#sk-container-id-1 div.sk-toggleable {background-color: white;}#sk-container-id-1 label.sk-toggleable__label {cursor: pointer;display: block;width: 100%;margin-bottom: 0;padding: 0.3em;box-sizing: border-box;text-align: center;}#sk-container-id-1 label.sk-toggleable__label-arrow:before {content: \"▸\";float: left;margin-right: 0.25em;color: #696969;}#sk-container-id-1 label.sk-toggleable__label-arrow:hover:before {color: black;}#sk-container-id-1 div.sk-estimator:hover label.sk-toggleable__label-arrow:before {color: black;}#sk-container-id-1 div.sk-toggleable__content {max-height: 0;max-width: 0;overflow: hidden;text-align: left;background-color: #f0f8ff;}#sk-container-id-1 div.sk-toggleable__content pre {margin: 0.2em;color: black;border-radius: 0.25em;background-color: #f0f8ff;}#sk-container-id-1 input.sk-toggleable__control:checked~div.sk-toggleable__content {max-height: 200px;max-width: 100%;overflow: auto;}#sk-container-id-1 input.sk-toggleable__control:checked~label.sk-toggleable__label-arrow:before {content: \"▾\";}#sk-container-id-1 div.sk-estimator input.sk-toggleable__control:checked~label.sk-toggleable__label {background-color: #d4ebff;}#sk-container-id-1 div.sk-label input.sk-toggleable__control:checked~label.sk-toggleable__label {background-color: #d4ebff;}#sk-container-id-1 input.sk-hidden--visually {border: 0;clip: rect(1px 1px 1px 1px);clip: rect(1px, 1px, 1px, 1px);height: 1px;margin: -1px;overflow: hidden;padding: 0;position: absolute;width: 1px;}#sk-container-id-1 div.sk-estimator {font-family: monospace;background-color: #f0f8ff;border: 1px dotted black;border-radius: 0.25em;box-sizing: border-box;margin-bottom: 0.5em;}#sk-container-id-1 div.sk-estimator:hover {background-color: #d4ebff;}#sk-container-id-1 div.sk-parallel-item::after {content: \"\";width: 100%;border-bottom: 1px solid gray;flex-grow: 1;}#sk-container-id-1 div.sk-label:hover label.sk-toggleable__label {background-color: #d4ebff;}#sk-container-id-1 div.sk-serial::before {content: \"\";position: absolute;border-left: 1px solid gray;box-sizing: border-box;top: 0;bottom: 0;left: 50%;z-index: 0;}#sk-container-id-1 div.sk-serial {display: flex;flex-direction: column;align-items: center;background-color: white;padding-right: 0.2em;padding-left: 0.2em;position: relative;}#sk-container-id-1 div.sk-item {position: relative;z-index: 1;}#sk-container-id-1 div.sk-parallel {display: flex;align-items: stretch;justify-content: center;background-color: white;position: relative;}#sk-container-id-1 div.sk-item::before, #sk-container-id-1 div.sk-parallel-item::before {content: \"\";position: absolute;border-left: 1px solid gray;box-sizing: border-box;top: 0;bottom: 0;left: 50%;z-index: -1;}#sk-container-id-1 div.sk-parallel-item {display: flex;flex-direction: column;z-index: 1;position: relative;background-color: white;}#sk-container-id-1 div.sk-parallel-item:first-child::after {align-self: flex-end;width: 50%;}#sk-container-id-1 div.sk-parallel-item:last-child::after {align-self: flex-start;width: 50%;}#sk-container-id-1 div.sk-parallel-item:only-child::after {width: 0;}#sk-container-id-1 div.sk-dashed-wrapped {border: 1px dashed gray;margin: 0 0.4em 0.5em 0.4em;box-sizing: border-box;padding-bottom: 0.4em;background-color: white;}#sk-container-id-1 div.sk-label label {font-family: monospace;font-weight: bold;display: inline-block;line-height: 1.2em;}#sk-container-id-1 div.sk-label-container {text-align: center;}#sk-container-id-1 div.sk-container {/* jupyter's `normalize.less` sets `[hidden] { display: none; }` but bootstrap.min.css set `[hidden] { display: none !important; }` so we also need the `!important` here to be able to override the default hidden behavior on the sphinx rendered scikit-learn.org. See: https://github.com/scikit-learn/scikit-learn/issues/21755 */display: inline-block !important;position: relative;}#sk-container-id-1 div.sk-text-repr-fallback {display: none;}</style><div id=\"sk-container-id-1\" class=\"sk-top-container\"><div class=\"sk-text-repr-fallback\"><pre>LogisticRegression()</pre><b>In a Jupyter environment, please rerun this cell to show the HTML representation or trust the notebook. <br />On GitHub, the HTML representation is unable to render, please try loading this page with nbviewer.org.</b></div><div class=\"sk-container\" hidden><div class=\"sk-item\"><div class=\"sk-estimator sk-toggleable\"><input class=\"sk-toggleable__control sk-hidden--visually\" id=\"sk-estimator-id-1\" type=\"checkbox\" checked><label for=\"sk-estimator-id-1\" class=\"sk-toggleable__label sk-toggleable__label-arrow\">LogisticRegression</label><div class=\"sk-toggleable__content\"><pre>LogisticRegression()</pre></div></div></div></div></div>"
      ],
      "text/plain": [
       "LogisticRegression()"
      ]
     },
     "execution_count": 12,
     "metadata": {},
     "output_type": "execute_result"
    }
   ],
   "source": [
    "model.fit(x_train_feature,y_train)"
   ]
  },
  {
   "cell_type": "code",
   "execution_count": 13,
   "id": "db6e61b3-3371-4ab1-81d3-0516bbee0d31",
   "metadata": {},
   "outputs": [
    {
     "name": "stdout",
     "output_type": "stream",
     "text": [
      "Accuracy of training data is : 0.9708815317112086\n"
     ]
    }
   ],
   "source": [
    "train_prediction=model.predict(x_train_feature)\n",
    "training_accuracy=accuracy_score(train_prediction,y_train)\n",
    "print(\"Accuracy of training data is :\",training_accuracy)"
   ]
  },
  {
   "cell_type": "code",
   "execution_count": 14,
   "id": "7411aa3f-f811-4d0d-90c9-9b4189ecc9a9",
   "metadata": {},
   "outputs": [
    {
     "name": "stdout",
     "output_type": "stream",
     "text": [
      "Accuracy of testing data is: 0.96415770609319\n"
     ]
    }
   ],
   "source": [
    "test_prediction=model.predict(x_test_feature)\n",
    "testing_accuracy=accuracy_score(test_prediction,y_test)\n",
    "print(\"Accuracy of testing data is:\",testing_accuracy)"
   ]
  },
  {
   "cell_type": "markdown",
   "id": "21b6a112-7d2f-435c-9e47-929216d7c33a",
   "metadata": {},
   "source": [
    "# Testing the model from real life data"
   ]
  },
  {
   "cell_type": "code",
   "execution_count": 15,
   "id": "a861c948-a348-442b-baf1-502ceb6afd32",
   "metadata": {},
   "outputs": [],
   "source": [
    "input=['First of all, my apologies for a very late reply. I am interested in working with you for your internship if it is possible to accommodate from 8th May 2024 to 25th July 2024.' ]\n",
    "\n",
    "input_feature=feature_ex.transform(input)"
   ]
  },
  {
   "cell_type": "code",
   "execution_count": 16,
   "id": "a1b831a3-6e97-4086-ae9a-20f5c1075406",
   "metadata": {},
   "outputs": [
    {
     "name": "stdout",
     "output_type": "stream",
     "text": [
      "['ham']\n",
      "Not a spam mail\n"
     ]
    }
   ],
   "source": [
    "predict=model.predict(input_feature)\n",
    "print(predict)\n",
    "\n",
    "if(predict=='ham'):\n",
    "    print(\"Not a spam mail\")\n",
    "else:\n",
    "    print(\"Spam mail\")"
   ]
  },
  {
   "cell_type": "code",
   "execution_count": null,
   "id": "011db908-06bc-4879-93fa-ba00e9368825",
   "metadata": {},
   "outputs": [],
   "source": []
  }
 ],
 "metadata": {
  "kernelspec": {
   "display_name": "Python 3 (ipykernel)",
   "language": "python",
   "name": "python3"
  },
  "language_info": {
   "codemirror_mode": {
    "name": "ipython",
    "version": 3
   },
   "file_extension": ".py",
   "mimetype": "text/x-python",
   "name": "python",
   "nbconvert_exporter": "python",
   "pygments_lexer": "ipython3",
   "version": "3.11.7"
  }
 },
 "nbformat": 4,
 "nbformat_minor": 5
}
